{
  "nbformat": 4,
  "nbformat_minor": 0,
  "metadata": {
    "colab": {
      "name": "AutoStitching.ipynb",
      "provenance": [],
      "collapsed_sections": [],
      "authorship_tag": "ABX9TyPplB4EqAol89mRzOEf15gK",
      "include_colab_link": true
    },
    "kernelspec": {
      "name": "python3",
      "display_name": "Python 3"
    },
    "language_info": {
      "name": "python"
    }
  },
  "cells": [
    {
      "cell_type": "markdown",
      "metadata": {
        "id": "view-in-github",
        "colab_type": "text"
      },
      "source": [
        "<a href=\"https://colab.research.google.com/github/Abdelrahman26/FarmTopia-CV-Internship/blob/main/FarmTopia-CV-Internship/Anwar/AutoStitching.ipynb\" target=\"_parent\"><img src=\"https://colab.research.google.com/assets/colab-badge.svg\" alt=\"Open In Colab\"/></a>"
      ]
    },
    {
      "cell_type": "code",
      "metadata": {
        "id": "IBa50pI9PmQy",
        "colab": {
          "base_uri": "https://localhost:8080/"
        },
        "outputId": "32134423-8a1b-4e74-b193-5e258eda3997"
      },
      "source": [
        "!git clone https://github.com/sheoranhimansh/AutoPanorama.git"
      ],
      "execution_count": null,
      "outputs": [
        {
          "output_type": "stream",
          "name": "stdout",
          "text": [
            "Cloning into 'AutoPanorama'...\n",
            "remote: Enumerating objects: 96, done.\u001b[K\n",
            "remote: Total 96 (delta 0), reused 0 (delta 0), pack-reused 96\u001b[K\n",
            "Unpacking objects: 100% (96/96), done.\n"
          ]
        }
      ]
    },
    {
      "cell_type": "code",
      "metadata": {
        "colab": {
          "base_uri": "https://localhost:8080/"
        },
        "id": "6AQADXGVCk6P",
        "outputId": "ded00736-ae20-4b1c-fb25-a7000219f7bc"
      },
      "source": [
        "cd AutoPanorama/  "
      ],
      "execution_count": null,
      "outputs": [
        {
          "output_type": "stream",
          "name": "stdout",
          "text": [
            "/content/AutoPanorama\n"
          ]
        }
      ]
    },
    {
      "cell_type": "code",
      "metadata": {
        "colab": {
          "base_uri": "https://localhost:8080/"
        },
        "id": "bWr_lO5ZC08_",
        "outputId": "e2feefe5-8ce5-4562-fea6-85cbaacaf8fa"
      },
      "source": [
        "!ls"
      ],
      "execution_count": null,
      "outputs": [
        {
          "output_type": "stream",
          "name": "stdout",
          "text": [
            "0_1_output.png\t2_1_output.png\t    img_stitch.py  script.sh\n",
            "0_2_output.png\tcorner_detector.py  README.md\t   stitch.py\n",
            "1_2_output.png\tdemo\t\t    run.py\t   utility.py\n"
          ]
        }
      ]
    },
    {
      "cell_type": "code",
      "metadata": {
        "colab": {
          "base_uri": "https://localhost:8080/"
        },
        "id": "9nBqGyN7EUU0",
        "outputId": "3e320a51-7736-434c-f047-58fb3fcc2693"
      },
      "source": [
        "!pip install opencv-python==3.4.2.17 \n",
        "!pip install opencv-contrib-python==3.4.2.17"
      ],
      "execution_count": null,
      "outputs": [
        {
          "output_type": "stream",
          "name": "stdout",
          "text": [
            "Collecting opencv-python==3.4.2.17\n",
            "  Downloading opencv_python-3.4.2.17-cp37-cp37m-manylinux1_x86_64.whl (25.0 MB)\n",
            "\u001b[K     |████████████████████████████████| 25.0 MB 1.6 MB/s \n",
            "\u001b[?25hRequirement already satisfied: numpy>=1.14.5 in /usr/local/lib/python3.7/dist-packages (from opencv-python==3.4.2.17) (1.19.5)\n",
            "Installing collected packages: opencv-python\n",
            "  Attempting uninstall: opencv-python\n",
            "    Found existing installation: opencv-python 4.1.2.30\n",
            "    Uninstalling opencv-python-4.1.2.30:\n",
            "      Successfully uninstalled opencv-python-4.1.2.30\n",
            "\u001b[31mERROR: pip's dependency resolver does not currently take into account all the packages that are installed. This behaviour is the source of the following dependency conflicts.\n",
            "albumentations 0.1.12 requires imgaug<0.2.7,>=0.2.5, but you have imgaug 0.2.9 which is incompatible.\u001b[0m\n",
            "Successfully installed opencv-python-3.4.2.17\n",
            "Collecting opencv-contrib-python==3.4.2.17\n",
            "  Downloading opencv_contrib_python-3.4.2.17-cp37-cp37m-manylinux1_x86_64.whl (30.6 MB)\n",
            "\u001b[K     |████████████████████████████████| 30.6 MB 1.6 MB/s \n",
            "\u001b[?25hRequirement already satisfied: numpy>=1.14.5 in /usr/local/lib/python3.7/dist-packages (from opencv-contrib-python==3.4.2.17) (1.19.5)\n",
            "Installing collected packages: opencv-contrib-python\n",
            "  Attempting uninstall: opencv-contrib-python\n",
            "    Found existing installation: opencv-contrib-python 4.1.2.30\n",
            "    Uninstalling opencv-contrib-python-4.1.2.30:\n",
            "      Successfully uninstalled opencv-contrib-python-4.1.2.30\n",
            "Successfully installed opencv-contrib-python-3.4.2.17\n"
          ]
        }
      ]
    },
    {
      "cell_type": "code",
      "metadata": {
        "colab": {
          "base_uri": "https://localhost:8080/"
        },
        "id": "1SyrC9CqC3sn",
        "outputId": "657253b1-ef44-4728-8b7b-2f64f7ccb656"
      },
      "source": [
        "!python run.py demo/* -o ret.png -n 1 -f 1"
      ],
      "execution_count": null,
      "outputs": [
        {
          "output_type": "stream",
          "name": "stdout",
          "text": [
            "Using SIFT Features\n",
            "Finding features for image 0\n",
            "Finding features for image 1\n",
            "Finding features for image 2\n",
            "Finding features for image 3\n",
            "Finding features for image 4\n",
            "Finding features for image 5\n",
            "Finding features for image 6\n",
            "Finding features for image 7\n",
            "@@@@@@@@@@@@@@@@@@@@@@@@@@@@@@@@@@@@@@@@@@@@@\n",
            "[ 5.95111818e+00+0.j          2.70128772e+00+0.j\n",
            "  5.23240738e-01+0.j          2.32395106e-01+0.j\n",
            " -1.92661364e-08+0.j          1.92661382e-08+0.j\n",
            " -7.04020875e-01+0.12617867j -7.04020875e-01-0.12617867j]\n",
            "[[-2.19462616e-01+0.j         -4.07728617e-01+0.j\n",
            "  -1.84327998e-01+0.j         -9.72689884e-02+0.j\n",
            "   2.11806655e-16+0.j         -2.15559820e-16+0.j\n",
            "  -2.24061027e-03+0.24262769j -2.24061027e-03-0.24262769j]\n",
            " [-2.97059162e-01+0.j         -3.61601762e-01+0.j\n",
            "  -1.30607738e-01+0.j         -5.95960148e-01+0.j\n",
            "   7.07106781e-01+0.j         -7.07106781e-01+0.j\n",
            "  -2.05550453e-01+0.16798675j -2.05550453e-01-0.16798675j]\n",
            " [-3.68458967e-01+0.j         -2.59598368e-01+0.j\n",
            "   5.96380884e-01+0.j          7.06376596e-01+0.j\n",
            "  -7.07106781e-01+0.j          7.07106781e-01+0.j\n",
            "  -2.40036288e-01-0.3498954j  -2.40036288e-01+0.3498954j ]\n",
            " [-4.21067216e-01+0.j         -7.24635598e-02+0.j\n",
            "  -3.77893066e-01+0.j         -3.57522967e-02+0.j\n",
            "   2.73583596e-16+0.j         -3.10863084e-16+0.j\n",
            "   4.18790350e-01-0.23181671j  4.18790350e-01+0.23181671j]\n",
            " [-4.61786220e-01+0.j          1.24601905e-01+0.j\n",
            "   2.81086283e-02+0.j         -1.15893385e-01+0.j\n",
            "  -1.36232162e-08+0.j         -1.36232165e-08+0.j\n",
            "   1.52552467e-01+0.02689541j  1.52552467e-01-0.02689541j]\n",
            " [-4.24908678e-01+0.j          2.75540516e-01+0.j\n",
            "   3.80390063e-01+0.j          3.02656686e-01+0.j\n",
            "   2.72464318e-08+0.j          2.72464335e-08+0.j\n",
            "   8.96244266e-02+0.36024847j  8.96244266e-02-0.36024847j]\n",
            " [-3.13077907e-01+0.j          5.05504961e-01+0.j\n",
            "  -5.09779820e-01+0.j         -1.72467123e-01+0.j\n",
            "  -1.36232158e-08+0.j         -1.36232168e-08+0.j\n",
            "  -4.78726718e-01+0.j         -4.78726718e-01-0.j        ]\n",
            " [-2.42323605e-01+0.j          5.32330522e-01+0.j\n",
            "   2.12436626e-01+0.j         -1.86243968e-02+0.j\n",
            "  -5.29516637e-17+0.j          8.64890807e-17+0.j\n",
            "   1.54793077e-01-0.21573227j  1.54793077e-01+0.21573227j]]\n",
            "/usr/local/lib/python3.7/dist-packages/sklearn/manifold/_spectral_embedding.py:234: UserWarning: Array is not symmetric, and will be converted to symmetric by average with its transpose.\n",
            "  adjacency = check_symmetric(adjacency)\n",
            "@@@@@@@@@@@@@@@@@@@@@@\n",
            "[['demo/0.jpg', 'demo/1.jpg', 'demo/2.jpg', 'demo/3.jpg', 'demo/4.jpg', 'demo/5.jpg', 'demo/6.jpg', 'demo/7.jpg']]\n",
            "Finding features for image 01\n",
            "Finding features for image 02\n",
            "Matching features of 02 01\n",
            "8803 features matched 3421 of which are good\n",
            "02 <=> 01 score 3421\n",
            "Finding features for image 03\n",
            "Matching features of 03 01\n",
            "8305 features matched 2793 of which are good\n",
            "03 <=> 01 score 2793\n",
            "Matching features of 03 02\n",
            "8305 features matched 3882 of which are good\n",
            "03 <=> 02 score 3882\n",
            "Finding features for image 04\n",
            "Matching features of 04 01\n",
            "8825 features matched 2223 of which are good\n",
            "04 <=> 01 score 2223\n",
            "Matching features of 04 02\n",
            "8825 features matched 3081 of which are good\n",
            "04 <=> 02 score 3081\n",
            "Matching features of 04 03\n",
            "8825 features matched 3918 of which are good\n",
            "04 <=> 03 score 3918\n",
            "Finding features for image 05\n",
            "Matching features of 05 01\n",
            "7715 features matched 1254 of which are good\n",
            "05 <=> 01 score 1254\n",
            "Matching features of 05 02\n",
            "7715 features matched 1806 of which are good\n",
            "05 <=> 02 score 1806\n",
            "Matching features of 05 03\n",
            "7715 features matched 2224 of which are good\n",
            "05 <=> 03 score 2224\n",
            "Matching features of 05 04\n",
            "7715 features matched 2817 of which are good\n",
            "05 <=> 04 score 2817\n",
            "Finding features for image 06\n",
            "Matching features of 06 01\n",
            "6639 features matched 544 of which are good\n",
            "06 <=> 01 score 544\n",
            "Matching features of 06 02\n",
            "6639 features matched 876 of which are good\n",
            "06 <=> 02 score 876\n",
            "Matching features of 06 03\n",
            "6639 features matched 1106 of which are good\n",
            "06 <=> 03 score 1106\n",
            "Matching features of 06 04\n",
            "6639 features matched 1461 of which are good\n",
            "06 <=> 04 score 1461\n",
            "Matching features of 06 05\n",
            "6639 features matched 2275 of which are good\n",
            "06 <=> 05 score 2275\n",
            "Finding features for image 07\n",
            "Matching features of 07 01\n",
            "6900 features matched 70 of which are good\n",
            "07 <=> 01 score 70\n",
            "Matching features of 07 02\n",
            "6900 features matched 453 of which are good\n",
            "07 <=> 02 score 453\n",
            "Matching features of 07 03\n",
            "6900 features matched 667 of which are good\n",
            "07 <=> 03 score 667\n",
            "Matching features of 07 04\n",
            "6900 features matched 964 of which are good\n",
            "07 <=> 04 score 964\n",
            "Matching features of 07 05\n",
            "6900 features matched 1464 of which are good\n",
            "07 <=> 05 score 1464\n",
            "Matching features of 07 06\n",
            "6900 features matched 2527 of which are good\n",
            "07 <=> 06 score 2527\n",
            "Finding features for image 08\n",
            "Matching features of 08 01\n",
            "7521 features matched 51 of which are good\n",
            "08 <=> 01 score 51\n",
            "Matching features of 08 02\n",
            "7521 features matched 119 of which are good\n",
            "08 <=> 02 score 119\n",
            "Matching features of 08 03\n",
            "7521 features matched 324 of which are good\n",
            "08 <=> 03 score 324\n",
            "Matching features of 08 04\n",
            "7521 features matched 507 of which are good\n",
            "08 <=> 04 score 507\n",
            "Matching features of 08 05\n",
            "7521 features matched 793 of which are good\n",
            "08 <=> 05 score 793\n",
            "Matching features of 08 06\n",
            "7521 features matched 1581 of which are good\n",
            "08 <=> 06 score 1581\n",
            "Matching features of 08 07\n",
            "7521 features matched 2854 of which are good\n",
            "08 <=> 07 score 2854\n",
            "New edge matrix:\n",
            " [[   0    0    0    0    0    0    0    0]\n",
            " [ 498    0    0    0    0    0    0    0]\n",
            " [1126   37    0    0    0    0    0    0]\n",
            " [1696  838    1    0    0    0    0    0]\n",
            " [2665 2113 1695 1102    0    0    0    0]\n",
            " [3375 3043 2813 2458 1644    0    0    0]\n",
            " [3849 3466 3252 2955 2455 1392    0    0]\n",
            " [3868 3800 3595 3412 3126 2338 1065    0]]\n",
            "  (1, 0)\t498\n",
            "  (2, 0)\t1126\n",
            "  (2, 1)\t37\n",
            "  (3, 0)\t1696\n",
            "  (3, 1)\t838\n",
            "  (3, 2)\t1\n",
            "  (4, 0)\t2665\n",
            "  (4, 1)\t2113\n",
            "  (4, 2)\t1695\n",
            "  (4, 3)\t1102\n",
            "  (5, 0)\t3375\n",
            "  (5, 1)\t3043\n",
            "  (5, 2)\t2813\n",
            "  (5, 3)\t2458\n",
            "  (5, 4)\t1644\n",
            "  (6, 0)\t3849\n",
            "  (6, 1)\t3466\n",
            "  (6, 2)\t3252\n",
            "  (6, 3)\t2955\n",
            "  (6, 4)\t2455\n",
            "  (6, 5)\t1392\n",
            "  (7, 0)\t3868\n",
            "  (7, 1)\t3800\n",
            "  (7, 2)\t3595\n",
            "  (7, 3)\t3412\n",
            "  (7, 4)\t3126\n",
            "  (7, 5)\t2338\n",
            "  (7, 6)\t1065\n",
            "The center image is 06 (index 5 )\n",
            "Parent matrix:\n",
            " [    1     2     3     5     5 -9999     5     5]\n",
            "Transforming 01 to 02\n",
            "Homography for 01 -> 02 [[ 7.61106432e-01  1.32039719e-02  4.48607259e+02]\n",
            " [-8.35727719e-02  8.99774461e-01  7.05726082e+01]\n",
            " [-1.16024078e-04 -1.47683079e-06  1.00000000e+00]]\n",
            "Transforming 02 to 03\n",
            "Homography for 02 -> 03 [[ 8.83790752e-01  3.43910815e-03  2.20803895e+02]\n",
            " [-3.71377225e-02  9.46549446e-01  3.40597476e+01]\n",
            " [-5.63676035e-05 -3.70216208e-07  1.00000000e+00]]\n",
            "Transforming 03 to 04\n",
            "Homography for 03 -> 04 [[ 8.53180392e-01  1.03998132e-03  2.77863313e+02]\n",
            " [-4.44664336e-02  9.32877417e-01  3.86166047e+01]\n",
            " [-7.07044588e-05 -1.50827346e-06  1.00000000e+00]]\n",
            "Transforming 04 to 06\n",
            "Homography for 04 -> 06 [[ 5.55634847e-01  8.16404028e-03  8.59653710e+02]\n",
            " [-1.49383613e-01  8.61943922e-01  1.10302658e+02]\n",
            " [-2.15362979e-04 -1.54917474e-06  1.00000000e+00]]\n",
            "Transforming 05 to 06\n",
            "Homography for 05 -> 06 [[ 7.42654132e-01 -2.46845229e-03  4.87521612e+02]\n",
            " [-8.70745276e-02  8.89525183e-01  9.33334021e+01]\n",
            " [-1.22692501e-04 -7.01009525e-06  1.00000000e+00]]\n",
            "Transforming 07 to 06\n",
            "Homography for 07 -> 06 [[ 1.22578039e+00 -1.14095247e-02 -4.49739402e+02]\n",
            " [ 7.28410618e-02  1.12108135e+00 -7.83098559e+01]\n",
            " [ 1.13588918e-04 -1.02595069e-05  1.00000000e+00]]\n",
            "Transforming 08 to 06\n",
            "Homography for 08 -> 06 [[ 1.52655393e+00 -2.03061754e-02 -1.04156225e+03]\n",
            " [ 1.66880906e-01  1.32120480e+00 -2.05608177e+02]\n",
            " [ 2.64617270e-04 -2.05600825e-05  1.00000000e+00]]\n",
            "32 new corners to calculate bounds with Center at: (1131, 725) Final Size: (5614, 4410)\n",
            "Order to Draw:\n",
            "08, 07, 05, 01, 02, 03, 04, 06, \n",
            "Post Transform of 08 is 1892 2817\n",
            "Translated homography:\n",
            " [[ 1.82583606e+00 -4.35596287e-02  8.94377457e+01]\n",
            " [ 2.21392064e-01  1.31696943e+00  3.91823325e-01]\n",
            " [ 2.64617270e-04 -2.05600825e-05  1.00000000e+00]]\n",
            "Post Transform of 07 is 1539 2345\n",
            "Translated homography:\n",
            " [[ 1.28075743e+00 -1.63751260e-02  3.42605976e+01]\n",
            " [ 8.18145863e-02  1.12027085e+00  6.90144062e-01]\n",
            " [ 1.13588918e-04 -1.02595069e-05  1.00000000e+00]]\n",
            "Post Transform of 05 is 1336 2226\n",
            "Translated homography:\n",
            " [[ 8.02405380e-01  9.45464101e-04  5.21611575e-01]\n",
            " [-9.08779952e-02  8.89307870e-01  1.24333402e+02]\n",
            " [-1.22692501e-04 -7.01009525e-06  1.00000000e+00]]\n",
            "Post Transform of 01 is 2845 4410\n",
            "Translated homography:\n",
            " [[ 6.21438680e-01  2.49621501e-02  1.67685127e-01]\n",
            " [-4.41020737e-01  6.78565055e-01  5.99824932e+02]\n",
            " [-3.13294173e-04 -6.26064598e-06  7.54056519e-01]]\n",
            "Post Transform of 02 is 1858 3136\n",
            "Translated homography:\n",
            " [[ 6.55740494e-01  1.37453768e-02  8.43690985e-01]\n",
            " [-2.76906175e-01  7.58977985e-01  3.77077889e+02]\n",
            " [-2.77699277e-04 -4.14287296e-06  8.82002851e-01]]\n",
            "Post Transform of 03 is 1636 2807\n",
            "Translated homography:\n",
            " [[ 6.88074071e-01  1.11216389e-02  5.84058294e-02]\n",
            " [-2.28862310e-01  8.02904496e-01  3.11759335e+02]\n",
            " [-2.54423529e-04 -3.42645593e-06  9.39052283e-01]]\n",
            "Post Transform of 04 is 1460 2508\n",
            "Translated homography:\n",
            " [[ 7.40631646e-01  9.49478138e-03  6.53710299e-01]\n",
            " [-1.77811527e-01  8.61739431e-01  2.42302658e+02]\n",
            " [-2.15362979e-04 -1.54917474e-06  1.00000000e+00]]\n",
            "Post Transform of 06 is 1360 2048\n",
            "Translated homography:\n",
            " [[1. 0. 0.]\n",
            " [0. 1. 0.]\n",
            " [0. 0. 1.]]\n"
          ]
        }
      ]
    }
  ]
}